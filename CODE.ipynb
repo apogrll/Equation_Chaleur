{
 "cells": [
  {
   "cell_type": "code",
   "execution_count": 1,
   "metadata": {
    "collapsed": true
   },
   "outputs": [],
   "source": [
    "import numpy as np\n",
    "import matplotlib.pyplot as plt\n",
    "%matplotlib inline"
   ]
  },
  {
   "cell_type": "code",
   "execution_count": 4,
   "metadata": {
    "collapsed": false,
    "scrolled": true
   },
   "outputs": [],
   "source": [
    "#L = [0,1]\n",
    "#T = [0,1]\n",
    "\n",
    "Ni = [0,10]\n",
    "Nt = [0,10]\n",
    "\n",
    "u0 = 0\n",
    "\n",
    "T = [[Ni],[Nt]]"
   ]
  },
  {
   "cell_type": "code",
   "execution_count": 10,
   "metadata": {
    "collapsed": false,
    "scrolled": true
   },
   "outputs": [
    {
     "ename": "SyntaxError",
     "evalue": "invalid syntax (<ipython-input-10-488e07bb53af>, line 12)",
     "output_type": "error",
     "traceback": [
      "\u001b[0;36m  File \u001b[0;32m\"<ipython-input-10-488e07bb53af>\"\u001b[0;36m, line \u001b[0;32m12\u001b[0m\n\u001b[0;31m    f += T[i][n+1]\u001b[0m\n\u001b[0m    ^\u001b[0m\n\u001b[0;31mSyntaxError\u001b[0m\u001b[0;31m:\u001b[0m invalid syntax\n"
     ]
    }
   ],
   "source": [
    "def EQ_1(i,n):\n",
    "    f = 0 \n",
    "    \n",
    "    for i in Ni:\n",
    "        T[0][n] = 0  \n",
    "        \n",
    "    for n in Nt:\n",
    "        T[i][0] = u0\n",
    "        \n",
    "    for i,n in T:\n",
    "        T[i][n+1] = T[i][n] +(T[i][n+1]) #-2T[i][n]+T[i-1][n])\n",
    "        \n",
    "    f += T[i][n+1]\n",
    "\n",
    "    return f\n",
    "   \n"
   ]
  },
  {
   "cell_type": "code",
   "execution_count": null,
   "metadata": {
    "collapsed": true
   },
   "outputs": [],
   "source": []
  },
  {
   "cell_type": "code",
   "execution_count": null,
   "metadata": {
    "collapsed": true
   },
   "outputs": [],
   "source": []
  }
 ],
 "metadata": {
  "anaconda-cloud": {},
  "kernelspec": {
   "display_name": "Python [Root]",
   "language": "python",
   "name": "Python [Root]"
  },
  "language_info": {
   "codemirror_mode": {
    "name": "ipython",
    "version": 2
   },
   "file_extension": ".py",
   "mimetype": "text/x-python",
   "name": "python",
   "nbconvert_exporter": "python",
   "pygments_lexer": "ipython2",
   "version": "2.7.12"
  }
 },
 "nbformat": 4,
 "nbformat_minor": 0
}
