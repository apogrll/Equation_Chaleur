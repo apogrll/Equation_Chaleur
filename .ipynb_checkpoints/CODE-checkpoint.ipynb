{
 "cells": [
  {
   "cell_type": "code",
   "execution_count": 6,
   "metadata": {
    "collapsed": true
   },
   "outputs": [],
   "source": [
    "import numpy as np\n",
    "import matplotlib.pyplot as plt\n",
    "%matplotlib inline"
   ]
  },
  {
   "cell_type": "code",
   "execution_count": 8,
   "metadata": {
    "collapsed": false,
    "scrolled": true
   },
   "outputs": [
    {
     "ename": "SyntaxError",
     "evalue": "invalid syntax (<ipython-input-8-8ed97359010f>, line 19)",
     "output_type": "error",
     "traceback": [
      "\u001b[0;36m  File \u001b[0;32m\"<ipython-input-8-8ed97359010f>\"\u001b[0;36m, line \u001b[0;32m19\u001b[0m\n\u001b[0;31m    T[i][n+1] = T[i][n] + .... (T[i][n+1]-2T[i][n]+T[i-1][n])\u001b[0m\n\u001b[0m                          ^\u001b[0m\n\u001b[0;31mSyntaxError\u001b[0m\u001b[0;31m:\u001b[0m invalid syntax\n"
     ]
    }
   ],
   "source": [
    "#L = [0,1]\n",
    "#T = [0,1]\n",
    "\n",
    "Ni = [0,10]\n",
    "Nt = [0,10]\n",
    "\n",
    "u0 = 0\n",
    "\n",
    "T = [[Ni],[Nt]]\n",
    "\n",
    "\n",
    "for n in Nt:\n",
    "    T[0][n] = 0\n",
    "    \n",
    "for i in Ni:\n",
    "    T[i][0] = u0\n",
    "\n",
    "\n",
    "    T[i][n+1] = T[i][n] + .... (T[i][n+1]-2T[i][n]+T[i-1][n])"
   ]
  },
  {
   "cell_type": "code",
   "execution_count": 9,
   "metadata": {
    "collapsed": false,
    "scrolled": true
   },
   "outputs": [],
   "source": [
    "def EQ_1D(i,n):\n",
    "    \n",
    "    for i in Nx:\n",
    "        T[0][n] = 0\n",
    "        \n",
    "        for n in Nt:\n",
    "            T[i][0] = u0\n",
    "\n",
    "   \n"
   ]
  },
  {
   "cell_type": "code",
   "execution_count": null,
   "metadata": {
    "collapsed": true
   },
   "outputs": [],
   "source": []
  }
 ],
 "metadata": {
  "anaconda-cloud": {},
  "kernelspec": {
   "display_name": "Python [Root]",
   "language": "python",
   "name": "Python [Root]"
  },
  "language_info": {
   "codemirror_mode": {
    "name": "ipython",
    "version": 2
   },
   "file_extension": ".py",
   "mimetype": "text/x-python",
   "name": "python",
   "nbconvert_exporter": "python",
   "pygments_lexer": "ipython2",
   "version": "2.7.12"
  }
 },
 "nbformat": 4,
 "nbformat_minor": 0
}
